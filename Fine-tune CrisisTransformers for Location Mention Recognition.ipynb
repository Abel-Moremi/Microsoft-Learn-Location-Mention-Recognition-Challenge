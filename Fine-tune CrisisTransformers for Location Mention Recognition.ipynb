{
 "cells": [
  {
   "cell_type": "markdown",
   "metadata": {},
   "source": [
    "# IMPORTS AND CHECKS"
   ]
  },
  {
   "cell_type": "markdown",
   "metadata": {},
   "source": [
    "### IMPORTS"
   ]
  },
  {
   "cell_type": "code",
   "execution_count": 12,
   "metadata": {},
   "outputs": [],
   "source": [
    "import os\n",
    "import re\n",
    "import torch\n",
    "import json\n",
    "import nltk\n",
    "import unicodedata\n",
    "import pandas as pd\n",
    "import numpy as np\n",
    "\n",
    "import re\n",
    "import nltk\n",
    "from nltk.corpus import stopwords\n",
    "from nltk.tokenize import word_tokenize\n",
    "from nltk.stem import WordNetLemmatizer\n",
    "\n",
    "from datasets import Dataset\n",
    "from typing import List, Tuple\n",
    "from transformers import AutoTokenizer\n",
    "from sklearn.metrics import precision_recall_fscore_support\n",
    "from sklearn.model_selection import train_test_split\n",
    "\n",
    "from transformers import (\n",
    "    AutoConfig,\n",
    "    AutoTokenizer,\n",
    "    AutoModelForTokenClassification,\n",
    "    TrainingArguments,\n",
    "    Trainer,\n",
    "    DataCollatorForTokenClassification\n",
    ")"
   ]
  },
  {
   "cell_type": "markdown",
   "metadata": {},
   "source": [
    "### CHECKS"
   ]
  },
  {
   "cell_type": "code",
   "execution_count": 13,
   "metadata": {},
   "outputs": [
    {
     "name": "stdout",
     "output_type": "stream",
     "text": [
      "Tensor is on: cuda:0\n"
     ]
    }
   ],
   "source": [
    "# Check whether CUDA is available\n",
    "device = torch.device('cuda' if torch.cuda.is_available() else 'cpu')\n",
    "x = torch.rand(3, 3).to(device)\n",
    "print(f'Tensor is on: {x.device}')"
   ]
  },
  {
   "cell_type": "code",
   "execution_count": 15,
   "metadata": {},
   "outputs": [
    {
     "name": "stdout",
     "output_type": "stream",
     "text": [
      "12.1\n"
     ]
    }
   ],
   "source": [
    "# print cuda version\n",
    "print(torch.version.cuda)"
   ]
  },
  {
   "cell_type": "code",
   "execution_count": 16,
   "metadata": {},
   "outputs": [
    {
     "name": "stdout",
     "output_type": "stream",
     "text": [
      "C:\\Users\\abelm\\OneDrive\\Documents\\GitHub\\Microsoft-Learn-Location-Mention-Recognition-Challenge\n"
     ]
    }
   ],
   "source": [
    "# check the current working directory\n",
    "print(os.getcwd())\n",
    "os.chdir('C:/Users/abelm/OneDrive/Documents/GitHub/Microsoft-Learn-Location-Mention-Recognition-Challenge')"
   ]
  },
  {
   "cell_type": "markdown",
   "metadata": {},
   "source": [
    "# DATA PREPARATION AND CLEANING "
   ]
  },
  {
   "cell_type": "markdown",
   "metadata": {},
   "source": [
    "### Explore Train Data"
   ]
  },
  {
   "cell_type": "code",
   "execution_count": 17,
   "metadata": {},
   "outputs": [
    {
     "data": {
      "text/html": [
       "<div>\n",
       "<style scoped>\n",
       "    .dataframe tbody tr th:only-of-type {\n",
       "        vertical-align: middle;\n",
       "    }\n",
       "\n",
       "    .dataframe tbody tr th {\n",
       "        vertical-align: top;\n",
       "    }\n",
       "\n",
       "    .dataframe thead th {\n",
       "        text-align: right;\n",
       "    }\n",
       "</style>\n",
       "<table border=\"1\" class=\"dataframe\">\n",
       "  <thead>\n",
       "    <tr style=\"text-align: right;\">\n",
       "      <th></th>\n",
       "      <th>tweet_id</th>\n",
       "      <th>text</th>\n",
       "      <th>location</th>\n",
       "    </tr>\n",
       "  </thead>\n",
       "  <tbody>\n",
       "    <tr>\n",
       "      <th>0</th>\n",
       "      <td>ID_1001136212718088192</td>\n",
       "      <td>NaN</td>\n",
       "      <td>EllicottCity</td>\n",
       "    </tr>\n",
       "    <tr>\n",
       "      <th>1</th>\n",
       "      <td>ID_1001136696589631488</td>\n",
       "      <td>Flash floods struck a Maryland city on Sunday,...</td>\n",
       "      <td>Maryland</td>\n",
       "    </tr>\n",
       "    <tr>\n",
       "      <th>2</th>\n",
       "      <td>ID_1001136950345109504</td>\n",
       "      <td>State of emergency declared for Maryland flood...</td>\n",
       "      <td>Maryland</td>\n",
       "    </tr>\n",
       "    <tr>\n",
       "      <th>3</th>\n",
       "      <td>ID_1001137334056833024</td>\n",
       "      <td>Other parts of Maryland also saw significant d...</td>\n",
       "      <td>Baltimore Maryland</td>\n",
       "    </tr>\n",
       "    <tr>\n",
       "      <th>4</th>\n",
       "      <td>ID_1001138374923579392</td>\n",
       "      <td>Catastrophic Flooding Slams Ellicott City, Mar...</td>\n",
       "      <td>Ellicott City Maryland</td>\n",
       "    </tr>\n",
       "  </tbody>\n",
       "</table>\n",
       "</div>"
      ],
      "text/plain": [
       "                 tweet_id                                               text  \\\n",
       "0  ID_1001136212718088192                                                NaN   \n",
       "1  ID_1001136696589631488  Flash floods struck a Maryland city on Sunday,...   \n",
       "2  ID_1001136950345109504  State of emergency declared for Maryland flood...   \n",
       "3  ID_1001137334056833024  Other parts of Maryland also saw significant d...   \n",
       "4  ID_1001138374923579392  Catastrophic Flooding Slams Ellicott City, Mar...   \n",
       "\n",
       "                 location  \n",
       "0            EllicottCity  \n",
       "1                Maryland  \n",
       "2                Maryland  \n",
       "3      Baltimore Maryland  \n",
       "4  Ellicott City Maryland  "
      ]
     },
     "execution_count": 17,
     "metadata": {},
     "output_type": "execute_result"
    }
   ],
   "source": [
    "# Load the data\n",
    "trainData = pd.read_csv('data/kaggle/Train_1-new.csv')\n",
    "trainData.head()"
   ]
  },
  {
   "cell_type": "code",
   "execution_count": 18,
   "metadata": {},
   "outputs": [
    {
     "name": "stdout",
     "output_type": "stream",
     "text": [
      "The shape of the data is: (73072, 3)\n",
      "The number of missing values in the data are: tweet_id        0\n",
      "text        56624\n",
      "location    29612\n",
      "dtype: int64\n",
      "The number of missing values in the data are: tweet_id    0\n",
      "text        0\n",
      "location    0\n",
      "dtype: int64\n",
      "The shape of the data is: (11849, 3)\n"
     ]
    }
   ],
   "source": [
    "# print out shape \n",
    "print(f'The shape of the data is: {trainData.shape}')\n",
    "\n",
    "# print out the number of missing values in each column\n",
    "print(f'The number of missing values in the data are: {trainData.isnull().sum()}')\n",
    "\n",
    "# drop the missing value rows\n",
    "trainData = trainData.dropna()\n",
    "\n",
    "# print out the number of missing values in each column after dropping missing values\n",
    "print(f'The number of missing values in the data are: {trainData.isnull().sum()}')\n",
    "\n",
    "# print out the shape of the data after dropping missing values\n",
    "print(f'The shape of the data is: {trainData.shape}')"
   ]
  },
  {
   "cell_type": "markdown",
   "metadata": {},
   "source": [
    "### CREATE BIOES FILES"
   ]
  },
  {
   "cell_type": "code",
   "execution_count": 31,
   "metadata": {},
   "outputs": [],
   "source": [
    "# separate data into train and dev\n",
    "trainData, devData = train_test_split(trainData, test_size=0.2, random_state=42)\n",
    "\n",
    "# save data to a csv tainData\n",
    "trainData.to_csv('data/kaggle/Train-dropna.csv', index=False)\n",
    "\n",
    "# save data to a csv devData\n",
    "devData.to_csv('data/kaggle/Dev-dropna.csv', index=False)"
   ]
  },
  {
   "cell_type": "code",
   "execution_count": 33,
   "metadata": {},
   "outputs": [],
   "source": [
    "# tokenize and label helper function\n",
    "def tokenize_and_label(text, location):\n",
    "    \"\"\"\n",
    "    Tokenize the tweet text and label tokens using BIOES format for location entities.\n",
    "    \n",
    "    Args:\n",
    "    - text: A string representing the tweet.\n",
    "    - location: A string representing the location entity to tag in the text.\n",
    "    \n",
    "    Returns:\n",
    "    - List of tuples: Each tuple contains a token and its corresponding BIOES tag.\n",
    "    \"\"\"\n",
    "    tokens = nltk.word_tokenize(text)  # Tokenize the tweet text\n",
    "    labels = ['O'] * len(tokens)  # Initialize with 'O' tags for all tokens\n",
    "    \n",
    "    location_tokens = nltk.word_tokenize(location)  # Tokenize the location string\n",
    "    start_idx = None\n",
    "    \n",
    "    # Find where the location starts in the tokenized text\n",
    "    for i in range(len(tokens) - len(location_tokens) + 1):\n",
    "        if tokens[i:i + len(location_tokens)] == location_tokens:\n",
    "            start_idx = i\n",
    "            break\n",
    "    \n",
    "    # If the location is found, assign the appropriate BIOES tags\n",
    "    if start_idx is not None:\n",
    "        if len(location_tokens) == 1:\n",
    "            labels[start_idx] = 'S-LOC'  # Single-word location\n",
    "        else:\n",
    "            labels[start_idx] = 'B-LOC'  # Beginning of multi-word location\n",
    "            labels[start_idx + len(location_tokens) - 1] = 'E-LOC'  # End of multi-word location\n",
    "            for j in range(start_idx + 1, start_idx + len(location_tokens) - 1):\n",
    "                labels[j] = 'I-LOC'  # Inside of multi-word location\n",
    "    \n",
    "    return list(zip(tokens, labels))"
   ]
  },
  {
   "cell_type": "code",
   "execution_count": 34,
   "metadata": {},
   "outputs": [],
   "source": [
    "# convert to bioes helper function\n",
    "def convert_to_bioes(csv_file, output_file):\n",
    "    \"\"\"\n",
    "    Convert the text and location data from the CSV to BIOES format and save to a file.\n",
    "    \n",
    "    Args:\n",
    "    - csv_file: Path to the input CSV file containing \"text\" and \"location\" columns.\n",
    "    - output_file: Path to the output file where the BIOES formatted data will be saved.\n",
    "    \"\"\"\n",
    "    # Load the CSV file\n",
    "    df = pd.read_csv(csv_file)\n",
    "\n",
    "    # Assuming the CSV has columns: \"text\" and \"location\"\n",
    "    bioes_data = []\n",
    "\n",
    "    # Process each row\n",
    "    for index, row in df.iterrows():\n",
    "        tweet_text = row['text']\n",
    "        location = row['location']  # Now it's just a single string, no list needed\n",
    "\n",
    "        # Get the tokens and their BIOES labels\n",
    "        token_labels = tokenize_and_label(tweet_text, location)\n",
    "        bioes_data.extend(token_labels)\n",
    "        bioes_data.append((\"\", \"\"))  # Add a blank line between tweets\n",
    "\n",
    "    # Define the directory from the output file path\n",
    "    directory = os.path.dirname(output_file)\n",
    "\n",
    "    # Check if the directory exists, if not, create it\n",
    "    if not os.path.exists(directory):\n",
    "        os.makedirs(directory)\n",
    "\n",
    "    # Save the BIOES formatted data to the output file\n",
    "    with open(output_file, 'w', encoding='utf-8') as f:\n",
    "        for token, label in bioes_data:\n",
    "            if token:  # Write token and label\n",
    "                f.write(f\"{token} {label}\\n\")\n",
    "            else:  # Write a blank line between tweets\n",
    "                f.write(\"\\n\")\n"
   ]
  },
  {
   "cell_type": "code",
   "execution_count": 35,
   "metadata": {},
   "outputs": [],
   "source": [
    "# create BIOES formatted data\n",
    "convert_to_bioes('data/kaggle/train-dropna.csv', 'data/kaggle/BIOES/train_bioes_file.txt')\n",
    "convert_to_bioes('data/kaggle/dev-dropna.csv', 'data/kaggle/BIOES/dev_bioes_file.txt')"
   ]
  },
  {
   "cell_type": "code",
   "execution_count": 36,
   "metadata": {},
   "outputs": [],
   "source": [
    "def read_bioes_file(file_path):\n",
    "    sentences, labels = [], []\n",
    "    try:\n",
    "        with open(file_path, 'r', encoding='utf-8') as file:\n",
    "            sentence, label = [], []\n",
    "            for line in file:\n",
    "                if line.strip():\n",
    "                    try:\n",
    "                        word, tag = line.strip().split()\n",
    "                        sentence.append(word)\n",
    "                        label.append(tag)\n",
    "                    except ValueError:\n",
    "                        print(f\"Skipping malformed line: {line.strip()}\")\n",
    "                else:\n",
    "                    if sentence and label:\n",
    "                        sentences.append(sentence)\n",
    "                        labels.append(label)\n",
    "                    sentence, label = [], []\n",
    "        return sentences, labels\n",
    "    except FileNotFoundError:\n",
    "        print(f\"File not found: {file_path}\")\n",
    "    except UnicodeDecodeError as e:\n",
    "        print(f\"Unicode decoding error: {e}\")\n",
    "    except Exception as e:\n",
    "        print(f\"Error reading file {file_path}: {e}\")\n",
    "        \n",
    "train_sentences, train_labels = read_bioes_file('data/kaggle/BIOES/train_bioes_file.txt')\n",
    "dev_sentences, dev_labels = read_bioes_file('data/kaggle/BIOES/dev_bioes_file.txt')"
   ]
  },
  {
   "cell_type": "code",
   "execution_count": 37,
   "metadata": {},
   "outputs": [
    {
     "name": "stdout",
     "output_type": "stream",
     "text": [
      "Train sentences:  7583\n",
      "Train labels:  7583\n",
      "Dev sentences:  1896\n",
      "Dev labels:  1896\n",
      "\n",
      "Train sentences: \n",
      " ['Remember', 'the', 'devastating', 'storm', 'that', 'destroyed', 'all', 'agriculture', 'on', 'PR', '?', '#', 'Trump', 'is', 'too', 'busy', 'being', 'racist', 'to', 'notice', '.', '#', 'Maria', '#', 'Irma', '#', 'Harvey', '#', 'MAGA', '?']\n",
      "Train labels: \n",
      " ['O', 'O', 'O', 'O', 'O', 'O', 'O', 'O', 'O', 'S-LOC', 'O', 'O', 'O', 'O', 'O', 'O', 'O', 'O', 'O', 'O', 'O', 'O', 'O', 'O', 'O', 'O', 'O', 'O', 'O', 'O']\n",
      "Dev sentences: \n",
      " ['Wife', 'of', '@', 'StephenCurry30', 'responds', 'to', 'Trump', '’', 's', 'attacks', 'by', 'asking', 'him', 'to', 'donate', 'to', 'Mexico', 'earthquake', 'victims', '.', 'That', '’', 's', 'how', 'you', 'use', 'the', 'limelight', '!']\n",
      "Dev labels: \n",
      " ['O', 'O', 'O', 'O', 'O', 'O', 'O', 'O', 'O', 'O', 'O', 'O', 'O', 'O', 'O', 'O', 'S-LOC', 'O', 'O', 'O', 'O', 'O', 'O', 'O', 'O', 'O', 'O', 'O', 'O']\n"
     ]
    }
   ],
   "source": [
    "print(\"Train sentences: \", len(train_sentences))\n",
    "print(\"Train labels: \", len(train_labels))\n",
    "print(\"Dev sentences: \", len(dev_sentences))\n",
    "print(\"Dev labels: \", len(dev_labels))\n",
    "print()\n",
    "\n",
    "print(\"Train sentences: \\n\", train_sentences[0])\n",
    "print(\"Train labels: \\n\", train_labels[0])\n",
    "print(\"Dev sentences: \\n\", dev_sentences[0])\n",
    "print(\"Dev labels: \\n\", dev_labels[0])"
   ]
  },
  {
   "cell_type": "markdown",
   "metadata": {},
   "source": [
    "## Set up the label mapping"
   ]
  },
  {
   "cell_type": "code",
   "execution_count": 38,
   "metadata": {},
   "outputs": [
    {
     "name": "stdout",
     "output_type": "stream",
     "text": [
      "{'B-LOC': 0, 'E-LOC': 1, 'I-LOC': 2, 'O': 3, 'S-LOC': 4}\n",
      "{0: 'B-LOC', 1: 'E-LOC', 2: 'I-LOC', 3: 'O', 4: 'S-LOC'}\n"
     ]
    }
   ],
   "source": [
    "# Set up label mapping\n",
    "all_labels = set()\n",
    "\n",
    "for labels in train_labels + dev_labels:\n",
    "    all_labels.update(labels)\n",
    "\n",
    "label_list = sorted(list(all_labels))\n",
    "\n",
    "label2id = {l: i for i, l in enumerate(label_list)}\n",
    "id2label = {i: l for l, i in label2id.items()}\n",
    "\n",
    "print(label2id)\n",
    "print(id2label)"
   ]
  },
  {
   "cell_type": "code",
   "execution_count": 39,
   "metadata": {},
   "outputs": [
    {
     "name": "stdout",
     "output_type": "stream",
     "text": [
      "Original first sentence labels: ['O', 'O', 'O', 'O', 'O', 'O', 'O', 'O', 'O', 'S-LOC', 'O', 'O', 'O', 'O', 'O', 'O', 'O', 'O', 'O', 'O', 'O', 'O', 'O', 'O', 'O', 'O', 'O', 'O', 'O', 'O']\n",
      "Converted first sentence label IDs: [3, 3, 3, 3, 3, 3, 3, 3, 3, 4, 3, 3, 3, 3, 3, 3, 3, 3, 3, 3, 3, 3, 3, 3, 3, 3, 3, 3, 3, 3]\n",
      "Valid length:  True\n"
     ]
    }
   ],
   "source": [
    "# Convert train_labels to IDs\n",
    "train_labels_ids = [[label2id[label] for label in sentence_labels] for sentence_labels in train_labels]\n",
    "dev_labels_ids = [[label2id[label] for label in sentence_labels] for sentence_labels in dev_labels]\n",
    "\n",
    "# Example usage\n",
    "print(\"Original first sentence labels:\", train_labels[0])\n",
    "print(\"Converted first sentence label IDs:\", train_labels_ids[0])\n",
    "\n",
    "print(\"Valid length: \", len(train_labels) == len(train_labels_ids))"
   ]
  },
  {
   "cell_type": "markdown",
   "metadata": {},
   "source": [
    "## Preprocess sentence and label from BIOES to index"
   ]
  },
  {
   "cell_type": "code",
   "execution_count": 40,
   "metadata": {},
   "outputs": [],
   "source": [
    "def preprocess_sentence_and_labels(sentence, labels):\n",
    "    processed_sentence = []\n",
    "    processed_labels = []\n",
    "\n",
    "    for word, label in zip(sentence, labels):\n",
    "        # Remove words with special characters or numbers\n",
    "        if not re.match(r'^[a-zA-Z]+$', word):\n",
    "            continue\n",
    "\n",
    "        # If the word is not empty after processing, keep it and its label\n",
    "        if word:\n",
    "            processed_sentence.append(word)\n",
    "            processed_labels.append(label)\n",
    "\n",
    "    return processed_sentence, processed_labels\n",
    "\n",
    "# Process the training data\n",
    "processed_train_sentences = []\n",
    "processed_train_labels_ids = []\n",
    "\n",
    "# Process the training data\n",
    "processed_dev_sentences = []\n",
    "processed_dev_labels_ids = []\n",
    "\n",
    "for sentence, labels in zip(train_sentences, train_labels_ids):\n",
    "    proc_sentence, proc_labels = preprocess_sentence_and_labels(sentence, labels)\n",
    "    processed_train_sentences.append(proc_sentence)\n",
    "    processed_train_labels_ids.append(proc_labels)\n",
    "\n",
    "for sentence, labels in zip(dev_sentences, dev_labels_ids):\n",
    "    proc_sentence, proc_labels = preprocess_sentence_and_labels(sentence, labels)\n",
    "    processed_dev_sentences.append(proc_sentence)\n",
    "    processed_dev_labels_ids.append(proc_labels)"
   ]
  },
  {
   "cell_type": "code",
   "execution_count": 41,
   "metadata": {},
   "outputs": [
    {
     "name": "stdout",
     "output_type": "stream",
     "text": [
      "Original sentence: ['Hurricane', 'Florences', 'path', 'tracks', 'towards', 'Carolinas', 'as', 'evacuations', 'begin']\n",
      "Original labels: [3, 3, 3, 3, 3, 4, 3, 3, 3]\n",
      "\n",
      "Processed sentence: ['Hurricane', 'Florences', 'path', 'tracks', 'towards', 'Carolinas', 'as', 'evacuations', 'begin']\n",
      "9\n",
      "Processed labels: [3, 3, 3, 3, 3, 4, 3, 3, 3]\n",
      "9\n",
      "\n",
      "Original word count: 197560\n",
      "Processed word count: 155613\n",
      "Removed 41947 words\n"
     ]
    }
   ],
   "source": [
    "# Print an example to compare\n",
    "print(\"Original sentence:\", train_sentences[2])\n",
    "print(\"Original labels:\", train_labels_ids[2])\n",
    "print(\"\\nProcessed sentence:\", processed_train_sentences[2])\n",
    "print(len(processed_train_sentences[2]))\n",
    "print(\"Processed labels:\", processed_train_labels_ids[2])\n",
    "print(len(processed_train_labels_ids[2]))\n",
    "\n",
    "# Print some statistics\n",
    "original_word_count = sum(len(sentence) for sentence in train_sentences)\n",
    "processed_word_count = sum(len(sentence) for sentence in processed_train_sentences)\n",
    "print(f\"\\nOriginal word count: {original_word_count}\")\n",
    "print(f\"Processed word count: {processed_word_count}\")\n",
    "print(f\"Removed {original_word_count - processed_word_count} words\")"
   ]
  },
  {
   "cell_type": "code",
   "execution_count": 42,
   "metadata": {},
   "outputs": [
    {
     "name": "stderr",
     "output_type": "stream",
     "text": [
      "emoji is not installed, thus not converting emoticons or emojis into text. Install emoji: pip3 install emoji==0.6.0\n",
      "C:\\Users\\abelm\\anaconda3\\envs\\mllmrc-gpu\\Lib\\site-packages\\transformers\\tokenization_utils_base.py:1601: FutureWarning: `clean_up_tokenization_spaces` was not set. It will be set to `True` by default. This behavior will be depracted in transformers v4.45, and will be then set to `False` by default. For more details check this issue: https://github.com/huggingface/transformers/issues/31884\n",
      "  warnings.warn(\n"
     ]
    }
   ],
   "source": [
    "CT_M3_Complete_tokenizer = AutoTokenizer.from_pretrained(\"crisistransformers/CT-M3-Complete\")\n",
    "\n",
    "def tokenize_and_adjust_labels(sentence: List[str], labels: List[int], tokenizer) -> Tuple[List[int], List[int]]:\n",
    "    tokenized_input = tokenizer(sentence, is_split_into_words=True)\n",
    "    tokens = tokenizer.convert_ids_to_tokens(tokenized_input[\"input_ids\"])\n",
    "\n",
    "    updated_labels = []\n",
    "    current_label_idx = 0\n",
    "\n",
    "    for token in tokens:\n",
    "        if token in ['<s>', '</s>', '<unk>']:\n",
    "            updated_labels.append(-100)\n",
    "        elif token.endswith('@@'):  # Handle word pieces ending with @@\n",
    "            updated_labels.append(labels[current_label_idx])\n",
    "        else:\n",
    "            updated_labels.append(labels[current_label_idx])\n",
    "            current_label_idx += 1\n",
    "\n",
    "    return tokenized_input[\"input_ids\"], updated_labels\n",
    "\n",
    "# Apply the function to all sentences and labels\n",
    "tokenized_train_inputs = []\n",
    "adjusted_train_labels = []\n",
    "\n",
    "tokenized_dev_inputs = []\n",
    "adjusted_dev_labels = []\n",
    "\n",
    "for sentence, labels in zip(processed_train_sentences, processed_train_labels_ids):\n",
    "    input_ids, adjusted_labels = tokenize_and_adjust_labels(sentence, labels, CT_M3_Complete_tokenizer)\n",
    "    tokenized_train_inputs.append(input_ids)\n",
    "    adjusted_train_labels.append(adjusted_labels)\n",
    "\n",
    "for sentence, labels in zip(processed_dev_sentences, processed_dev_labels_ids):\n",
    "    input_ids, adjusted_labels = tokenize_and_adjust_labels(sentence, labels, CT_M3_Complete_tokenizer)\n",
    "    tokenized_dev_inputs.append(input_ids)\n",
    "    adjusted_dev_labels.append(adjusted_labels)"
   ]
  },
  {
   "cell_type": "code",
   "execution_count": 43,
   "metadata": {},
   "outputs": [
    {
     "name": "stdout",
     "output_type": "stream",
     "text": [
      "Original sentence: ['Hurricane', 'Florences', 'path', 'tracks', 'towards', 'Carolinas', 'as', 'evacuations', 'begin']\n",
      "Original labels: [3, 3, 3, 3, 3, 4, 3, 3, 3]\n",
      "\n",
      "Tokenized input: [0, 11623, 16251, 9461, 4244, 4983, 2031, 33598, 14428, 52, 51682, 1961, 2953, 2]\n",
      "Adjusted labels: [-100, 3, 3, 3, 3, 3, 3, 4, 4, 3, 3, 3, 3, -100]\n",
      "\n",
      "Length of tokenized input: 14\n",
      "Length of adjusted labels: 14\n",
      "\n",
      "Number of original sentences: 26\n",
      "Number of tokenized sentences: 7583\n",
      "\n",
      "Average original sentence length: 5985.12\n",
      "Average tokenized sentence length: 26.94\n"
     ]
    }
   ],
   "source": [
    "# Print an example to verify\n",
    "print(\"Original sentence:\", processed_train_sentences[2])\n",
    "print(\"Original labels:\", processed_train_labels_ids[2])\n",
    "print(\"\\nTokenized input:\", tokenized_train_inputs[2])\n",
    "print(\"Adjusted labels:\", adjusted_train_labels[2])\n",
    "\n",
    "# Verify lengths\n",
    "print(\"\\nLength of tokenized input:\", len(tokenized_train_inputs[2]))\n",
    "print(\"Length of adjusted labels:\", len(adjusted_train_labels[2]))\n",
    "\n",
    "# Print some statistics\n",
    "original_sentence_count = len(input_ids)\n",
    "tokenized_sentence_count = len(tokenized_train_inputs)\n",
    "print(f\"\\nNumber of original sentences: {original_sentence_count}\")\n",
    "print(f\"Number of tokenized sentences: {tokenized_sentence_count}\")\n",
    "\n",
    "average_original_length = sum(len(s) for s in processed_train_sentences) / original_sentence_count\n",
    "average_tokenized_length = sum(len(s) for s in tokenized_train_inputs) / tokenized_sentence_count\n",
    "print(f\"\\nAverage original sentence length: {average_original_length:.2f}\")\n",
    "print(f\"Average tokenized sentence length: {average_tokenized_length:.2f}\")"
   ]
  },
  {
   "cell_type": "markdown",
   "metadata": {},
   "source": [
    "## Load the dataset"
   ]
  },
  {
   "cell_type": "code",
   "execution_count": 44,
   "metadata": {},
   "outputs": [],
   "source": [
    "# Convert to datasets\n",
    "tokenized_train = Dataset.from_dict({\n",
    "    \"input_ids\": tokenized_train_inputs,\n",
    "    \"labels\": adjusted_train_labels\n",
    "})\n",
    "tokenized_dev = Dataset.from_dict({\n",
    "    \"input_ids\": tokenized_dev_inputs,\n",
    "    \"labels\": adjusted_dev_labels\n",
    "})\n",
    "\n",
    "# Set up label mapping\n",
    "all_labels = set()\n",
    "\n",
    "for labels in train_labels + dev_labels:\n",
    "    all_labels.update(labels)\n",
    "\n",
    "label2id = {l: i for i, l in enumerate(label_list)}\n",
    "id2label = {i: l for l, i in label2id.items()}\n",
    "\n",
    "labels = sorted(list(all_labels))\n",
    "\n",
    "label_list = sorted(list(all_labels))"
   ]
  },
  {
   "cell_type": "markdown",
   "metadata": {},
   "source": [
    "# Model"
   ]
  },
  {
   "cell_type": "markdown",
   "metadata": {},
   "source": [
    "## Model configuration"
   ]
  },
  {
   "cell_type": "code",
   "execution_count": 46,
   "metadata": {},
   "outputs": [
    {
     "name": "stderr",
     "output_type": "stream",
     "text": [
      "Some weights of RobertaForTokenClassification were not initialized from the model checkpoint at crisistransformers/CT-M3-Complete and are newly initialized: ['classifier.bias', 'classifier.weight']\n",
      "You should probably TRAIN this model on a down-stream task to be able to use it for predictions and inference.\n"
     ]
    }
   ],
   "source": [
    "model_name = \"crisistransformers/CT-M3-Complete\"\n",
    "\n",
    "# Update model configuration\n",
    "config = AutoConfig.from_pretrained(model_name)\n",
    "config.num_labels = len(label_list)\n",
    "config.id2label = id2label\n",
    "config.label2id = label2id\n",
    "\n",
    "CT_M3_Complete_model = AutoModelForTokenClassification.from_pretrained(model_name, config=config)\n",
    "CT_M3_Complete_tokenizer = AutoTokenizer.from_pretrained(model_name)"
   ]
  },
  {
   "cell_type": "code",
   "execution_count": 47,
   "metadata": {},
   "outputs": [],
   "source": [
    "def compute_metrics(p):\n",
    "    predictions, labels = p\n",
    "    predictions = np.argmax(predictions, axis=2)\n",
    "\n",
    "    true_predictions = [\n",
    "        [label_list[p] for (p, l) in zip(prediction, label) if l != -100]\n",
    "        for prediction, label in zip(predictions, labels)\n",
    "    ]\n",
    "    true_labels = [\n",
    "        [label_list[l] for (p, l) in zip(prediction, label) if l != -100]\n",
    "        for prediction, label in zip(predictions, labels)\n",
    "    ]\n",
    "\n",
    "    results = precision_recall_fscore_support(sum(true_labels, []), sum(true_predictions, []), average='weighted')\n",
    "    return {\n",
    "        \"precision\": results[0],\n",
    "        \"recall\": results[1],\n",
    "        \"f1\": results[2],\n",
    "    }"
   ]
  },
  {
   "cell_type": "markdown",
   "metadata": {},
   "source": [
    "## Training"
   ]
  },
  {
   "cell_type": "code",
   "execution_count": 49,
   "metadata": {},
   "outputs": [],
   "source": [
    "# Set up model and tokenizer\n",
    "model_name = \"crisistransformers/CT-M3-Complete\"\n",
    "config = AutoConfig.from_pretrained(model_name)\n",
    "config.num_labels = len(label_list)\n",
    "config.id2label = id2label\n",
    "config.label2id = label2id"
   ]
  },
  {
   "cell_type": "code",
   "execution_count": 50,
   "metadata": {},
   "outputs": [
    {
     "name": "stderr",
     "output_type": "stream",
     "text": [
      "C:\\Users\\abelm\\anaconda3\\envs\\mllmrc-gpu\\Lib\\site-packages\\transformers\\training_args.py:1525: FutureWarning: `evaluation_strategy` is deprecated and will be removed in version 4.46 of 🤗 Transformers. Use `eval_strategy` instead\n",
      "  warnings.warn(\n"
     ]
    }
   ],
   "source": [
    "# Set up data collator\n",
    "data_collator = DataCollatorForTokenClassification(tokenizer=CT_M3_Complete_tokenizer)\n",
    "\n",
    "# Set up training arguments\n",
    "training_args = TrainingArguments(\n",
    "    output_dir=\"data/kaggle/CrisisTransformers\",\n",
    "    learning_rate=2e-5,\n",
    "    per_device_train_batch_size=8,  # Reduced batch size\n",
    "    per_device_eval_batch_size=8,\n",
    "    gradient_accumulation_steps=2,  # Accumulate gradients\n",
    "    num_train_epochs=10,\n",
    "    weight_decay=0.01,\n",
    "    evaluation_strategy=\"epoch\",\n",
    "    save_strategy=\"epoch\",\n",
    "    optim=\"adamw_torch\",  # Use PyTorch's AdamW implementation\n",
    "    logging_steps=100,  # Reduce logging frequency\n",
    "    save_total_limit=2,  # Keep only the last 2 checkpoints\n",
    "    report_to='none',  # Disable logging to wandb\n",
    ")\n",
    "\n",
    "# Set up trainer\n",
    "trainer = Trainer(\n",
    "    model=CT_M3_Complete_model,\n",
    "    args=training_args,\n",
    "    train_dataset=tokenized_train,\n",
    "    eval_dataset=tokenized_dev,\n",
    "    tokenizer=CT_M3_Complete_tokenizer,\n",
    "    data_collator=data_collator,\n",
    "    compute_metrics=compute_metrics,\n",
    ")"
   ]
  },
  {
   "cell_type": "code",
   "execution_count": null,
   "metadata": {},
   "outputs": [],
   "source": [
    "# Start training\n",
    "trainer.train()"
   ]
  },
  {
   "cell_type": "markdown",
   "metadata": {},
   "source": [
    "## Evaluate the model"
   ]
  },
  {
   "cell_type": "code",
   "execution_count": null,
   "metadata": {},
   "outputs": [],
   "source": [
    "# Evaluate the model\n",
    "eval_results = trainer.evaluate()\n",
    "print(eval_results)"
   ]
  },
  {
   "cell_type": "code",
   "execution_count": null,
   "metadata": {},
   "outputs": [],
   "source": [
    "# After training\n",
    "output_dir = \"data/kaggle/working/results\"\n",
    "\n",
    "# Save the model\n",
    "trainer.save_model(output_dir)\n",
    "\n",
    "# Save the tokenizer\n",
    "CT_M3_Complete_tokenizer.save_pretrained(output_dir)\n",
    "\n",
    "# Save training arguments\n",
    "with open(f\"{output_dir}/training_args.json\", 'w') as f:\n",
    "    json.dump(training_args.to_dict(), f)\n",
    "\n",
    "# Save label mappings\n",
    "with open(f\"{output_dir}/label_mappings.json\", 'w') as f:\n",
    "    json.dump({\"label2id\": label2id, \"id2label\": id2label}, f)\n",
    "\n",
    "print(f\"Model and associated files saved to {output_dir}\")"
   ]
  },
  {
   "cell_type": "code",
   "execution_count": null,
   "metadata": {},
   "outputs": [],
   "source": [
    "# Load the model and tokenizer\n",
    "model = AutoModelForTokenClassification.from_pretrained(\"data/kaggle/working/results\")\n",
    "tokenizer = AutoTokenizer.from_pretrained(\"data/kaggle/working/results\")\n",
    "\n",
    "# Load label mappings\n",
    "with open(\"data/kaggle/working/results/label_mappings.json\", 'r') as f:\n",
    "    label_mappings = json.load(f)\n",
    "\n",
    "id2label = label_mappings[\"id2label\"]\n",
    "print(id2label)"
   ]
  },
  {
   "cell_type": "markdown",
   "metadata": {},
   "source": [
    "# Submission"
   ]
  },
  {
   "cell_type": "code",
   "execution_count": 22,
   "metadata": {},
   "outputs": [],
   "source": [
    "def merge_subwords_and_locations(tokens_and_labels):\n",
    "    merged_words = []\n",
    "    merged_labels = []\n",
    "    current_word = []\n",
    "    current_labels = []\n",
    "    location_buffer = []\n",
    "\n",
    "    for token, label in tokens_and_labels:\n",
    "        if token.endswith('@@'):\n",
    "            current_word.append(token[:-2])  # Remove '@@'\n",
    "            current_labels.append(label)\n",
    "        else:\n",
    "            current_word.append(token)\n",
    "            current_labels.append(label)\n",
    "\n",
    "            # Merge subwords\n",
    "            merged_word = ''.join(current_word)\n",
    "\n",
    "            # Voting for the label\n",
    "            if len(set(current_labels)) == 1:\n",
    "                merged_label = current_labels[0]\n",
    "            else:\n",
    "                priority_order = ['B-LOC', 'I-LOC', 'E-LOC', 'S-LOC', 'O']\n",
    "                merged_label = next(label for label in priority_order if label in current_labels)\n",
    "\n",
    "            # Handle location merging\n",
    "            if merged_label.endswith('-LOC'):\n",
    "                if merged_label == 'B-LOC' or merged_label == 'S-LOC':\n",
    "                    if location_buffer:\n",
    "                        merged_words.append(' '.join(location_buffer))\n",
    "                        merged_labels.append('B-LOC')\n",
    "                        location_buffer = []\n",
    "                    location_buffer.append(merged_word)\n",
    "                elif merged_label == 'I-LOC' or merged_label == 'E-LOC':\n",
    "                    location_buffer.append(merged_word)\n",
    "                    if merged_label == 'E-LOC':\n",
    "                        merged_words.append(' '.join(location_buffer))\n",
    "                        merged_labels.append('B-LOC')\n",
    "                        location_buffer = []\n",
    "            else:\n",
    "                if location_buffer:\n",
    "                    merged_words.append(' '.join(location_buffer))\n",
    "                    merged_labels.append('B-LOC')\n",
    "                    location_buffer = []\n",
    "                merged_words.append(merged_word)\n",
    "                merged_labels.append(merged_label)\n",
    "\n",
    "            # Reset for next word\n",
    "            current_word = []\n",
    "            current_labels = []\n",
    "\n",
    "    # Handle any remaining location in the buffer\n",
    "    if location_buffer:\n",
    "        merged_words.append(' '.join(location_buffer))\n",
    "        merged_labels.append('B-LOC')\n",
    "\n",
    "    return list(zip(merged_words, merged_labels))\n",
    "\n",
    "# # Usage\n",
    "# merged_result = merge_subwords_and_locations(predicted_tokens)\n",
    "\n",
    "# # Extract locations\n",
    "# locations = [word for word, label in merged_result if label == 'B-LOC']\n",
    "# print(\"\\nExtracted locations:\", locations)"
   ]
  },
  {
   "cell_type": "code",
   "execution_count": 23,
   "metadata": {},
   "outputs": [],
   "source": [
    "def predict(text):\n",
    "    inputs = tokenizer(text, return_tensors=\"pt\", padding=True)\n",
    "\n",
    "    with torch.no_grad():\n",
    "        logits = model(**inputs).logits\n",
    "\n",
    "    predictions = torch.argmax(logits, dim=2)\n",
    "    predicted_token_class = [model.config.id2label[t.item()] for t in predictions[0]]\n",
    "\n",
    "    tokens = []\n",
    "    predicted_tokens = []\n",
    "\n",
    "    locations = []\n",
    "    current_location = []\n",
    "\n",
    "    for token, prediction in zip(tokenizer.convert_ids_to_tokens(inputs[\"input_ids\"][0]), predictions[0]):\n",
    "        if int(prediction) == 0:  # Beginning of a new location\n",
    "            current_location = [token]\n",
    "        elif int(prediction) == 2:  # Inside a location\n",
    "            if current_location:  # Make sure we started a location\n",
    "                current_location.append(token)\n",
    "        elif int(prediction) == 1:  # End of a location\n",
    "            if current_location:  # Make sure we're inside a location\n",
    "                current_location.append(token)\n",
    "                locations.append(\" \".join(current_location))\n",
    "                current_location = []\n",
    "        elif int(prediction) == 4:  # Single token location\n",
    "            locations.append(token)\n",
    "        else:\n",
    "            current_location = []  # Reset if prediction is 'O' or anything else\n",
    "\n",
    "        # Remove special tokens and clean up the text\n",
    "        if token not in ['<s>', '</s>', '<unk>']:\n",
    "            cleaned_token = token[1:] if token.startswith('Ġ') else token\n",
    "\n",
    "            if token.startswith('##'):\n",
    "                if predicted_tokens:\n",
    "                    predicted_tokens[-1] = (predicted_tokens[-1][0] + cleaned_token, predicted_tokens[-1][1])\n",
    "                continue\n",
    "\n",
    "            tokens.append(cleaned_token)\n",
    "            predicted_tokens.append((cleaned_token, id2label[str(prediction.item())]))\n",
    "\n",
    "    # Usage\n",
    "    merged_result = merge_subwords_and_locations(predicted_tokens)\n",
    "\n",
    "    # Extract locations\n",
    "    locations = [word for word, label in merged_result if label == 'B-LOC']\n",
    "\n",
    "    # Extract unique locations and sort alphabetically\n",
    "    unique_locations = sorted(set(locations))\n",
    "\n",
    "    return unique_locations, tokens, predictions, predicted_tokens"
   ]
  },
  {
   "cell_type": "code",
   "execution_count": null,
   "metadata": {},
   "outputs": [],
   "source": [
    "test = pd.read_csv(\"data/kaggle/test-new.csv\")\n",
    "\n",
    "nltk.download('punkt')\n",
    "nltk.download('stopwords')\n",
    "nltk.download('wordnet')\n",
    "nltk.data.path.append('/usr/share/nltk_data/')\n",
    "\n",
    "def preprocess_text(text):\n",
    "    # Remove URLs\n",
    "    text = re.sub(r'http\\S+|www\\S+|https\\S+', '<URL>', text, flags=re.MULTILINE)\n",
    "\n",
    "    # Remove user mentions\n",
    "    text = re.sub(r'@\\w+', '', text)\n",
    "\n",
    "    # Remove special characters and numbers\n",
    "    text = re.sub(r'[^a-zA-Z0-9\\s\\./\\-_]', '', text)\n",
    "\n",
    "    # Tokenize\n",
    "    tokens = word_tokenize(text)\n",
    "\n",
    "    # Remove stopwords\n",
    "    stop_words = set(stopwords.words('english'))\n",
    "    tokens = [token for token in tokens if token not in stop_words]\n",
    "\n",
    "#     # Lemmatize\n",
    "#     lemmatizer = WordNetLemmatizer()\n",
    "#     tokens = [lemmatizer.lemmatize(token) for token in tokens]\n",
    "\n",
    "    # Join tokens back into a string\n",
    "    processed_text = ' '.join(tokens)\n",
    "\n",
    "    return processed_text\n",
    "\n",
    "# Apply preprocessing to each text in your dataset\n",
    "test['processed_text'] = test['text'].apply(preprocess_text)"
   ]
  },
  {
   "cell_type": "code",
   "execution_count": null,
   "metadata": {},
   "outputs": [],
   "source": [
    "submission = []\n",
    "\n",
    "for index, row in test.iterrows():\n",
    "    if index % 100 == 0:\n",
    "        print(f\"Processing row {index}\")\n",
    "\n",
    "    id = row['tweet_id']\n",
    "    processed_text = row['processed_text']\n",
    "\n",
    "    unique_locations, tokens, predictions, predicted_tokens = predict(processed_text)\n",
    "\n",
    "    # Join locations with space, or use a single space if no locations\n",
    "    locations_string = ' '.join(unique_locations) if unique_locations else ' '\n",
    "\n",
    "    submission.append({'ID': id, 'Locations': locations_string})\n",
    "\n",
    "# Create DataFrame from submission list\n",
    "submission_df = pd.DataFrame(submission)\n",
    "\n",
    "# Save to CSV\n",
    "submission_df.to_csv('data/kaggle/submission.csv', index=False)"
   ]
  },
  {
   "cell_type": "code",
   "execution_count": null,
   "metadata": {},
   "outputs": [],
   "source": [
    "submission_df.head()"
   ]
  }
 ],
 "metadata": {
  "kernelspec": {
   "display_name": "Python 3 (ipykernel)",
   "language": "python",
   "name": "python3"
  },
  "language_info": {
   "codemirror_mode": {
    "name": "ipython",
    "version": 3
   },
   "file_extension": ".py",
   "mimetype": "text/x-python",
   "name": "python",
   "nbconvert_exporter": "python",
   "pygments_lexer": "ipython3",
   "version": "3.11.9"
  }
 },
 "nbformat": 4,
 "nbformat_minor": 2
}
